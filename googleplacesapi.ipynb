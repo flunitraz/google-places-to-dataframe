{
 "cells": [
  {
   "cell_type": "code",
   "execution_count": 1,
   "metadata": {},
   "outputs": [],
   "source": [
    "from googleplaces import GooglePlaces\n",
    "import requests\n",
    "import time\n",
    "import pandas as pd"
   ]
  },
  {
   "cell_type": "code",
   "execution_count": 2,
   "metadata": {},
   "outputs": [],
   "source": [
    "api_key = \"API KEY\""
   ]
  },
  {
   "cell_type": "code",
   "execution_count": 3,
   "metadata": {},
   "outputs": [],
   "source": [
    "google_places = GooglePlaces(api_key)"
   ]
  },
  {
   "cell_type": "code",
   "execution_count": 4,
   "metadata": {},
   "outputs": [],
   "source": [
    "def scrape(location,keyword):\n",
    "    results = google_places.nearby_search(location=location,keyword=keyword,radius=50000)\n",
    "    next_page = True\n",
    "    names = []\n",
    "    local_phones = []\n",
    "    international_phones = []\n",
    "    websites = []\n",
    "    while(next_page):\n",
    "        for result in results.places:\n",
    "            names.append(result.name)\n",
    "            result.get_details()\n",
    "            international_phones.append(result.international_phone_number)\n",
    "            websites.append(result.website)\n",
    "        if results.has_next_page_token:\n",
    "            results = google_places.nearby_search(location=location,keyword=keyword,radius=50000,pagetoken=results.next_page_token)        \n",
    "        else:\n",
    "            next_page=False\n",
    "    return pd.DataFrame({\"Location\":location,\"Company\":names,\"Phone Number\":international_phones,\"Website\":websites})"
   ]
  }
 ],
 "metadata": {
  "kernelspec": {
   "display_name": "env",
   "language": "python",
   "name": "python3"
  },
  "language_info": {
   "codemirror_mode": {
    "name": "ipython",
    "version": 3
   },
   "file_extension": ".py",
   "mimetype": "text/x-python",
   "name": "python",
   "nbconvert_exporter": "python",
   "pygments_lexer": "ipython3",
   "version": "3.10.4"
  },
  "orig_nbformat": 4,
  "vscode": {
   "interpreter": {
    "hash": "618139af683151bf675edf0ec537a07ac32e7df296cc30b40ff629e71e217d55"
   }
  }
 },
 "nbformat": 4,
 "nbformat_minor": 2
}
